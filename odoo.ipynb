{
 "cells": [
  {
   "cell_type": "code",
   "execution_count": 2,
   "metadata": {},
   "outputs": [],
   "source": [
    "import pandas as pd\n"
   ]
  },
  {
   "cell_type": "code",
   "execution_count": 4,
   "metadata": {},
   "outputs": [],
   "source": [
    "from DataBaseConnector.dbconnector import DataBaseConnector\n",
    "conn =  DataBaseConnector('ODOO')"
   ]
  },
  {
   "cell_type": "code",
   "execution_count": 8,
   "metadata": {},
   "outputs": [],
   "source": [
    "sql = '''  select name, email, phone, is_company,\n",
    "            email_normalized,\n",
    "            phone_sanitized,\n",
    "            create_date,\n",
    "            write_date\n",
    "            from res_partner '''"
   ]
  },
  {
   "cell_type": "code",
   "execution_count": 9,
   "metadata": {},
   "outputs": [],
   "source": [
    "customer_df = conn.get_dataframe_from_postgres(sqlquery=sql,sqlparams=None)"
   ]
  },
  {
   "cell_type": "code",
   "execution_count": 10,
   "metadata": {},
   "outputs": [
    {
     "data": {
      "text/html": [
       "<div>\n",
       "<style scoped>\n",
       "    .dataframe tbody tr th:only-of-type {\n",
       "        vertical-align: middle;\n",
       "    }\n",
       "\n",
       "    .dataframe tbody tr th {\n",
       "        vertical-align: top;\n",
       "    }\n",
       "\n",
       "    .dataframe thead th {\n",
       "        text-align: right;\n",
       "    }\n",
       "</style>\n",
       "<table border=\"1\" class=\"dataframe\">\n",
       "  <thead>\n",
       "    <tr style=\"text-align: right;\">\n",
       "      <th></th>\n",
       "      <th>name</th>\n",
       "      <th>email</th>\n",
       "      <th>phone</th>\n",
       "      <th>is_company</th>\n",
       "      <th>email_normalized</th>\n",
       "      <th>phone_sanitized</th>\n",
       "      <th>create_date</th>\n",
       "      <th>write_date</th>\n",
       "    </tr>\n",
       "  </thead>\n",
       "  <tbody>\n",
       "    <tr>\n",
       "      <th>0</th>\n",
       "      <td>Fabian</td>\n",
       "      <td>f.baez.calderon@gmail.com</td>\n",
       "      <td>705 9786543</td>\n",
       "      <td>False</td>\n",
       "      <td>f.baez.calderon@gmail.com</td>\n",
       "      <td>705 9786543</td>\n",
       "      <td>NaT</td>\n",
       "      <td>NaT</td>\n",
       "    </tr>\n",
       "    <tr>\n",
       "      <th>1</th>\n",
       "      <td>Default User Template</td>\n",
       "      <td>None</td>\n",
       "      <td>None</td>\n",
       "      <td>False</td>\n",
       "      <td>None</td>\n",
       "      <td>None</td>\n",
       "      <td>2024-10-25 03:16:03.835045</td>\n",
       "      <td>2024-10-25 03:28:50.246883</td>\n",
       "    </tr>\n",
       "    <tr>\n",
       "      <th>2</th>\n",
       "      <td>Israel</td>\n",
       "      <td>Israel.Harabedian@visitmail.com</td>\n",
       "      <td>(306)975-4672</td>\n",
       "      <td>True</td>\n",
       "      <td></td>\n",
       "      <td>(306)975-4672</td>\n",
       "      <td>NaT</td>\n",
       "      <td>NaT</td>\n",
       "    </tr>\n",
       "    <tr>\n",
       "      <th>3</th>\n",
       "      <td>Marcello</td>\n",
       "      <td>Marcello.Frickel@x-mail.net</td>\n",
       "      <td>(474)975-5122</td>\n",
       "      <td>True</td>\n",
       "      <td>Marcello.Frickel@x-mail.net</td>\n",
       "      <td>(474)975-5122</td>\n",
       "      <td>NaT</td>\n",
       "      <td>NaT</td>\n",
       "    </tr>\n",
       "    <tr>\n",
       "      <th>4</th>\n",
       "      <td>Janos</td>\n",
       "      <td>Janos.Cabibbo@merda.flu.cc</td>\n",
       "      <td>(879)973-4411</td>\n",
       "      <td>True</td>\n",
       "      <td></td>\n",
       "      <td>(879)973-4411</td>\n",
       "      <td>NaT</td>\n",
       "      <td>NaT</td>\n",
       "    </tr>\n",
       "  </tbody>\n",
       "</table>\n",
       "</div>"
      ],
      "text/plain": [
       "                    name                            email          phone  \\\n",
       "0                 Fabian        f.baez.calderon@gmail.com    705 9786543   \n",
       "1  Default User Template                             None           None   \n",
       "2                 Israel  Israel.Harabedian@visitmail.com  (306)975-4672   \n",
       "3               Marcello      Marcello.Frickel@x-mail.net  (474)975-5122   \n",
       "4                  Janos       Janos.Cabibbo@merda.flu.cc  (879)973-4411   \n",
       "\n",
       "   is_company             email_normalized phone_sanitized  \\\n",
       "0       False    f.baez.calderon@gmail.com     705 9786543   \n",
       "1       False                         None            None   \n",
       "2        True                                (306)975-4672   \n",
       "3        True  Marcello.Frickel@x-mail.net   (474)975-5122   \n",
       "4        True                                (879)973-4411   \n",
       "\n",
       "                 create_date                 write_date  \n",
       "0                        NaT                        NaT  \n",
       "1 2024-10-25 03:16:03.835045 2024-10-25 03:28:50.246883  \n",
       "2                        NaT                        NaT  \n",
       "3                        NaT                        NaT  \n",
       "4                        NaT                        NaT  "
      ]
     },
     "execution_count": 10,
     "metadata": {},
     "output_type": "execute_result"
    }
   ],
   "source": [
    "customer_df.head()"
   ]
  }
 ],
 "metadata": {
  "kernelspec": {
   "display_name": "uxs24",
   "language": "python",
   "name": "python3"
  },
  "language_info": {
   "codemirror_mode": {
    "name": "ipython",
    "version": 3
   },
   "file_extension": ".py",
   "mimetype": "text/x-python",
   "name": "python",
   "nbconvert_exporter": "python",
   "pygments_lexer": "ipython3",
   "version": "3.9.19"
  }
 },
 "nbformat": 4,
 "nbformat_minor": 2
}
